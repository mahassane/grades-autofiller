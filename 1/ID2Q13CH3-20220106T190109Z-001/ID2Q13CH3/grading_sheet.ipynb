{
 "cells": [
  {
   "cell_type": "code",
   "execution_count": 3,
   "metadata": {},
   "outputs": [],
   "source": [
    "import cv2\n",
    "import numpy as np\n",
    "\n",
    "# Load the image\n",
    "image = cv2.imread('IMG_6229.JPG')\n",
    "gray = cv2.cvtColor(image, cv2.COLOR_BGR2GRAY)\n",
    "\n",
    "# Apply edge detection\n",
    "edges = cv2.Canny(gray, 50, 150)\n",
    "\n",
    "# Find contours\n",
    "contours, _ = cv2.findContours(edges, cv2.RETR_EXTERNAL, cv2.CHAIN_APPROX_SIMPLE)\n",
    "contours = sorted(contours, key=cv2.contourArea, reverse=True)  # Sort by area\n",
    "\n",
    "# Assume the largest contour is the sheet\n",
    "sheet_contour = contours[0]\n",
    "\n",
    "# Approximate the sheet's contour to a quadrilateral\n",
    "epsilon = 0.02 * cv2.arcLength(sheet_contour, True)\n",
    "approx = cv2.approxPolyDP(sheet_contour, epsilon, True)\n",
    "\n",
    "# Ensure we have four points (a quadrilateral)\n",
    "if len(approx) == 4:\n",
    "    # Sort the points in the required order\n",
    "    points = approx.reshape(4, 2)\n",
    "    rect = np.zeros((4, 2), dtype='float32')\n",
    "\n",
    "    s = points.sum(axis=1)\n",
    "    rect[0] = points[np.argmin(s)]  # Top-left\n",
    "    rect[2] = points[np.argmax(s)]  # Bottom-right\n",
    "\n",
    "    diff = np.diff(points, axis=1)\n",
    "    rect[1] = points[np.argmin(diff)]  # Top-right\n",
    "    rect[3] = points[np.argmax(diff)]  # Bottom-left\n",
    "\n",
    "    # Define the standard rectangle for the aligned sheet\n",
    "    (width, height) = (500, 700)  # Adjust these values based on the sheet's size\n",
    "    dst = np.array([\n",
    "        [0, 0],\n",
    "        [width - 1, 0],\n",
    "        [width - 1, height - 1],\n",
    "        [0, height - 1]\n",
    "    ], dtype='float32')\n",
    "\n",
    "    # Compute the perspective transform matrix\n",
    "    M = cv2.getPerspectiveTransform(rect, dst)\n",
    "\n",
    "    # Apply perspective warp\n",
    "    aligned_sheet = cv2.warpPerspective(image, M, (width, height))\n",
    "\n",
    "    # Display the aligned sheet\n",
    "    cv2.imshow('Aligned Sheet', aligned_sheet)\n",
    "    cv2.waitKey(0)\n",
    "    cv2.destroyAllWindows()\n",
    "else:\n",
    "    print(\"Sheet alignment failed: Unable to detect 4 corners.\")\n"
   ]
  }
 ],
 "metadata": {
  "kernelspec": {
   "display_name": "base",
   "language": "python",
   "name": "python3"
  },
  "language_info": {
   "codemirror_mode": {
    "name": "ipython",
    "version": 3
   },
   "file_extension": ".py",
   "mimetype": "text/x-python",
   "name": "python",
   "nbconvert_exporter": "python",
   "pygments_lexer": "ipython3",
   "version": "3.11.3"
  }
 },
 "nbformat": 4,
 "nbformat_minor": 2
}
